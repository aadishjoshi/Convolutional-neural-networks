{
 "cells": [
  {
   "cell_type": "code",
   "execution_count": 41,
   "metadata": {},
   "outputs": [],
   "source": [
    "import gzip\n",
    "import numpy as np\n",
    "import _pickle as cPickle"
   ]
  },
  {
   "cell_type": "code",
   "execution_count": null,
   "metadata": {},
   "outputs": [],
   "source": []
  },
  {
   "cell_type": "code",
   "execution_count": 42,
   "metadata": {},
   "outputs": [],
   "source": [
    "totalClasses = 10\n",
    "LR = 0.1\n",
    "LS = 0.5\n",
    "epochs = 5\n",
    "EF = 10000"
   ]
  },
  {
   "cell_type": "code",
   "execution_count": 43,
   "metadata": {},
   "outputs": [],
   "source": [
    "dataTrain, dataValidate, dataTest = cPickle.load(gzip.open('mnist.pkl.gz', 'rb'),encoding='latin1')"
   ]
  },
  {
   "cell_type": "code",
   "execution_count": 44,
   "metadata": {},
   "outputs": [],
   "source": [
    "xTrain = dataTrain[0].T\n",
    "yTrain = dataTrain[1]"
   ]
  },
  {
   "cell_type": "code",
   "execution_count": 45,
   "metadata": {},
   "outputs": [],
   "source": [
    "xValidate = dataValidate[0].T\n",
    "yValidate = dataValidate[1]"
   ]
  },
  {
   "cell_type": "code",
   "execution_count": 46,
   "metadata": {},
   "outputs": [],
   "source": [
    "xTest = dataTest[0].T\n",
    "yTest = dataTest[1]"
   ]
  },
  {
   "cell_type": "code",
   "execution_count": 47,
   "metadata": {},
   "outputs": [],
   "source": [
    "(Ktrain,    Ntrain)    = xTrain.shape\n",
    "(Kvalidate, Nvalidate) = xValidate.shape\n",
    "(Ktest,     Ntest)     = xTest.shape"
   ]
  },
  {
   "cell_type": "code",
   "execution_count": 48,
   "metadata": {},
   "outputs": [],
   "source": [
    "###### Fully connected layer 1\n",
    "K1 = Ktrain\n",
    "M1 = 100\n",
    "\n",
    "#bias\n",
    "K1b = M1\n",
    "M1b = K1b\n",
    "\n",
    "#relu\n",
    "K1r = M1b\n",
    "M1r = K1r \n",
    "\n",
    "\n",
    "##### Fully connected layer 2\n",
    "K2 = M1r\n",
    "M2 = totalClasses\n",
    "\n",
    "#bias\n",
    "K2b = M2\n",
    "M2b = K2b"
   ]
  },
  {
   "cell_type": "code",
   "execution_count": 49,
   "metadata": {},
   "outputs": [],
   "source": [
    "w0 = np.random.randn(M1, K1)\n",
    "w1 = np.random.randn(K1b)\n",
    "w3 = np.random.randn(M2, K2)\n",
    "w4 = np.random.randn(K2b)"
   ]
  },
  {
   "cell_type": "code",
   "execution_count": 50,
   "metadata": {},
   "outputs": [],
   "source": [
    "x0 = np.zeros(K1)\n",
    "x1 = np.zeros(K1b)\n",
    "x2 = np.zeros(K1r)\n",
    "x3 = np.zeros(K2)\n",
    "x4 = np.zeros(K2b)\n",
    "x5 = np.zeros(M2b)"
   ]
  },
  {
   "cell_type": "code",
   "execution_count": 51,
   "metadata": {},
   "outputs": [],
   "source": [
    "err = np.zeros(M2b)"
   ]
  },
  {
   "cell_type": "code",
   "execution_count": 52,
   "metadata": {},
   "outputs": [],
   "source": [
    "dedw1 = np.zeros(K1b)\n",
    "dedw2 = np.zeros(K1r)\n",
    "dedw3 = np.zeros(K2)\n",
    "dedw4 = np.zeros(K2b)\n",
    "dedw5 = np.zeros(M2b)"
   ]
  },
  {
   "cell_type": "code",
   "execution_count": 53,
   "metadata": {},
   "outputs": [
    {
     "name": "stdout",
     "output_type": "stream",
     "text": [
      "Initial Accur. (Validation):\t 11.55\n"
     ]
    }
   ],
   "source": [
    "numVal = 0\n",
    "for n in range(Nvalidate):\n",
    "    x0 = np.copy(xValidate[:, n])\n",
    "    x1 = np.dot(w0, x0)\n",
    "    x2 = np.add(x1, w1)\n",
    "    x3 = np.maximum(0, x2)\n",
    "    x4 = np.dot(w3, x3)\n",
    "    x5 = np.add(x4, w4)\n",
    "    \n",
    "    k_ = np.argmax(x5)\n",
    "    if yValidate[n] != k_:\n",
    "        numVal = numVal + 1\n",
    "\n",
    "numVal = (100.0*numVal)/Nvalidate\n",
    "print(\"Initial Accur. (Validation):\\t{0:6.2f}\".format(100.0 - numVal))"
   ]
  },
  {
   "cell_type": "code",
   "execution_count": 54,
   "metadata": {},
   "outputs": [
    {
     "name": "stdout",
     "output_type": "stream",
     "text": [
      "Accur. & Err (training):\t 48.56\t  2.23\n",
      "Accur. & Err (training):\t 58.59\t  1.33\n",
      "Accur. & Err (training):\t 59.53\t  1.40\n",
      "Accur. & Err (training):\t 60.03\t  1.36\n",
      "Accur. & Err (training):\t 63.22\t  1.22\n",
      "Current Accur. (validation):\t 69.48\n",
      "Accur. & Err (training):\t 76.57\t  0.92\n",
      "Accur. & Err (training):\t 78.02\t  0.82\n",
      "Accur. & Err (training):\t 81.81\t  0.78\n",
      "Accur. & Err (training):\t 81.94\t  0.75\n",
      "Accur. & Err (training):\t 82.95\t  0.69\n",
      "Current Accur. (validation):\t 86.91\n",
      "Accur. & Err (training):\t 86.61\t  0.52\n",
      "Accur. & Err (training):\t 87.27\t  0.47\n",
      "Accur. & Err (training):\t 88.02\t  0.46\n",
      "Accur. & Err (training):\t 87.90\t  0.47\n",
      "Accur. & Err (training):\t 88.37\t  0.42\n",
      "Current Accur. (validation):\t 90.34\n",
      "Accur. & Err (training):\t 90.01\t  0.38\n",
      "Accur. & Err (training):\t 89.83\t  0.37\n",
      "Accur. & Err (training):\t 90.52\t  0.35\n",
      "Accur. & Err (training):\t 90.06\t  0.36\n",
      "Accur. & Err (training):\t 90.48\t  0.33\n",
      "Current Accur. (validation):\t 91.50\n",
      "Accur. & Err (training):\t 91.11\t  0.32\n",
      "Accur. & Err (training):\t 90.96\t  0.32\n",
      "Accur. & Err (training):\t 91.45\t  0.31\n",
      "Accur. & Err (training):\t 91.14\t  0.31\n",
      "Accur. & Err (training):\t 91.07\t  0.30\n",
      "Current Accur. (validation):\t 91.99\n"
     ]
    }
   ],
   "source": [
    "eIndex = 0\n",
    "eNum   = 0\n",
    "eSum   = 0.0\n",
    "\n",
    "for epoch in range(epochs):\n",
    "    for n in range(Ntrain):\n",
    "        x0 = np.copy(xTrain[:, n])\n",
    "        x1 = np.dot(w0, x0)\n",
    "        x2 = np.add(x1, w1)\n",
    "        x3 = np.maximum(0, x2)\n",
    "        x4 = np.dot(w3, x3)\n",
    "        x5 = np.add(x4, w4)\n",
    "        \n",
    "        stark = yTrain[n]\n",
    "        px           = np.subtract(x5, np.max(x5))    \n",
    "        px           = np.exp(px)                     \n",
    "        px           = np.true_divide(px, np.sum(px)) \n",
    "        e            = -np.log(px[stark])             \n",
    "        dedw5        = np.copy(px)                   \n",
    "        dedw5[stark] = dedw5[stark] - 1.0\n",
    "\n",
    "        k_ = np.argmax(x5)\n",
    "        if stark != k_:\n",
    "            eNum = eNum + 1\n",
    "            \n",
    "        eSum = eSum + e\n",
    "        eIndex = eIndex + 1\n",
    "        \n",
    "        if eIndex == EF:\n",
    "            eNum = (100.0*eNum)/EF\n",
    "            eSum = (1.0*eSum)/EF\n",
    "            print(\"Accur. & Err (training):\\t{0:6.2f}\\t{1:6.2f}\".format(100.0 - eNum, eSum))\n",
    "            eIndex = 0\n",
    "            eNum   = 0\n",
    "            eSum   = 0.0\n",
    "        \n",
    "        dedw4 = np.copy(dedw5)\n",
    "        dedw3 = np.dot(w3.T, dedw4)\n",
    "        dedw2 = np.multiply(np.minimum(1.0, np.ceil(np.maximum(0.0, x2))), dedw3)\n",
    "        dedw1 = np.copy(dedw2)\n",
    "        \n",
    "        dedw0 = np.outer(dedw1, x0)\n",
    "        dedw1 = np.copy(dedw2)\n",
    "        dedw3 = np.outer(dedw4, x3)\n",
    "        dedw4 = np.copy(dedw5)\n",
    "\n",
    "        w0 = np.subtract(w0, np.multiply(LR, dedw0))\n",
    "        w1 = np.subtract(w1, np.multiply(LR, dedw1))\n",
    "        w3 = np.subtract(w3, np.multiply(LR, dedw3))\n",
    "        w4 = np.subtract(w4, np.multiply(LR, dedw4))\n",
    "        \n",
    "    eNumVal = 0\n",
    "    for n in range(Nvalidate):\n",
    "        \n",
    "        x0 = np.copy(xValidate[:, n])\n",
    "        x1 = np.dot(w0, x0)\n",
    "        x2 = np.add(x1, w1)\n",
    "        x3 = np.maximum(0, x2)\n",
    "        x4 = np.dot(w3, x3)\n",
    "        x5 = np.add(x4, w4)\n",
    "\n",
    "        k_ = np.argmax(x5)\n",
    "        if yValidate[n] != k_:\n",
    "            eNumVal = eNumVal + 1\n",
    "    eNumVal = (100.0*eNumVal)/Nvalidate\n",
    "    print(\"Current Accur. (validation):\\t{0:6.2f}\".format(100.0 - eNumVal))\n",
    "    LR = LS*LR"
   ]
  },
  {
   "cell_type": "code",
   "execution_count": 55,
   "metadata": {},
   "outputs": [
    {
     "name": "stdout",
     "output_type": "stream",
     "text": [
      "Accuracy (testing):\t 91.21\n"
     ]
    }
   ],
   "source": [
    "numTest = 0\n",
    "for n in range(Ntest):\n",
    "    x0 = np.copy(xTest[:, n])\n",
    "    x1 = np.dot(w0, x0)\n",
    "    x2 = np.add(x1, w1)\n",
    "    x3 = np.maximum(0, x2)\n",
    "    x4 = np.dot(w3, x3)\n",
    "    x5 = np.add(x4, w4)\n",
    "    \n",
    "    k_ = np.argmax(x5)\n",
    "    if yTest[n] != k_:\n",
    "        numTest = numTest + 1\n",
    "numTest = (100.0*numTest)/Ntest\n",
    "print(\"Accuracy (testing):\\t{0:6.2f}\".format(100.0 - numTest))"
   ]
  },
  {
   "cell_type": "code",
   "execution_count": null,
   "metadata": {},
   "outputs": [],
   "source": []
  }
 ],
 "metadata": {
  "kernelspec": {
   "display_name": "Python 3",
   "language": "python",
   "name": "python3"
  },
  "language_info": {
   "codemirror_mode": {
    "name": "ipython",
    "version": 3
   },
   "file_extension": ".py",
   "mimetype": "text/x-python",
   "name": "python",
   "nbconvert_exporter": "python",
   "pygments_lexer": "ipython3",
   "version": "3.6.5"
  }
 },
 "nbformat": 4,
 "nbformat_minor": 2
}
